{
 "cells": [
  {
   "cell_type": "markdown",
   "metadata": {
    "class": "fill"
   },
   "source": [
    "# STA 141B: Homework 4\n",
    "Winter 2018"
   ]
  },
  {
   "cell_type": "markdown",
   "metadata": {
    "class": "student"
   },
   "source": [
    "## Student Information\n",
    "\n",
    "After the colons (in the same line) please write just your first name, last name, and the 9 digit student ID number below.\n",
    "\n",
    "First Name: Mitchell\n",
    "\n",
    "Last Name: Layton\n",
    "\n",
    "Student ID: 912307956"
   ]
  },
  {
   "cell_type": "markdown",
   "metadata": {
    "class": "fill"
   },
   "source": [
    "## Instructions\n",
    "\n",
    "We use a script that extracts your answers by looking for cells in between the cells containing the exercise statements.  So you \n",
    "\n",
    "- MUST add cells in between the exercise statements and add answers within them and\n",
    "- MUST NOT modify the existing cells, particularly not the problem statement\n",
    "\n",
    "To make markdown, please switch the cell type to markdown (from code) - you can hit 'm' when you are in command mode - and use the markdown language.  For a brief tutorial see: https://daringfireball.net/projects/markdown/syntax\n"
   ]
  },
  {
   "cell_type": "markdown",
   "metadata": {
    "class": "fill"
   },
   "source": [
    "## Requesting freshness\n",
    "\n",
    "In this portion, you'll combine the assignment 3 data set with nutrition data from the [USDA Food Composition Databases](https://ndb.nal.usda.gov/ndb/search/list). The CSV file `fresh.csv` contains the fresh fruits and vegetables data you extracted in assignment 3.\n",
    "\n",
    "The USDA Food Composition Databases have a [documented](https://ndb.nal.usda.gov/ndb/doc/index) web API that returns data in JSON format . You need a key in order to use the API. Only 1000 requests are allowed per hour, so it would be a good idea to use [caching][requests_cache].\n",
    "\n",
    "[Sign up for an API key here](https://api.data.gov/signup/). The key will work with any Data.gov API. You may need the key again later in the quarter, so make sure you save it.\n",
    "\n",
    "These modules may be useful:\n",
    "\n",
    "* [requests](http://docs.python-requests.org/en/master/user/quickstart/)\n",
    "* [requests_cache][]\n",
    "* [urlparse](https://docs.python.org/2/library/urlparse.html)\n",
    "* [pandas](http://pandas.pydata.org/pandas-docs/stable/)\n",
    "\n",
    "[requests_cache]: https://pypi.python.org/pypi/requests-cache"
   ]
  },
  {
   "cell_type": "markdown",
   "metadata": {
    "class": "ex",
    "exercise": "1.1",
    "points": "20"
   },
   "source": [
    "__Exercise 1.1__ (20 pts)\n",
    "\n",
    "Read the [search request documentation](https://ndb.nal.usda.gov/ndb/doc/apilist/API-SEARCH.md), then write a function called `ndb_search()` that makes a search request. The function should accept the search term as an argument. The function should return the search result items as a list (for 0 items, return an empty list).\n",
    "\n",
    "Note that the search url is: `https://api.nal.usda.gov/ndb/search`\n",
    "\n",
    "As an example, a search for `\"quail eggs\"` should return this list:\n",
    "\n",
    "```python\n",
    "[{u'ds': u'BL',\n",
    "  u'group': u'Branded Food Products Database',\n",
    "  u'name': u'CHAOKOH, QUAIL EGG IN BRINE, UPC: 044738074186',\n",
    "  u'ndbno': u'45094707',\n",
    "  u'offset': 0},\n",
    " {u'ds': u'BL',\n",
    "  u'group': u'Branded Food Products Database',\n",
    "  u'name': u'L&W, QUAIL EGGS, UPC: 024072000256',\n",
    "  u'ndbno': u'45094890',\n",
    "  u'offset': 1},\n",
    " {u'ds': u'BL',\n",
    "  u'group': u'Branded Food Products Database',\n",
    "  u'name': u'BUDDHA, QUAIL EGGS IN BRINE, UPC: 761934535098',\n",
    "  u'ndbno': u'45099560',\n",
    "  u'offset': 2},\n",
    " {u'ds': u'BL',\n",
    "  u'group': u'Branded Food Products Database',\n",
    "  u'name': u'GRAN SABANA, QUAIL EGGS, UPC: 819140010103',\n",
    "  u'ndbno': u'45169279',\n",
    "  u'offset': 3},\n",
    " {u'ds': u'BL',\n",
    "  u'group': u'Branded Food Products Database',\n",
    "  u'name': u\"D'ARTAGNAN, QUAIL EGGS, UPC: 736622102630\",\n",
    "  u'ndbno': u'45178254',\n",
    "  u'offset': 4},\n",
    " {u'ds': u'SR',\n",
    "  u'group': u'Dairy and Egg Products',\n",
    "  u'name': u'Egg, quail, whole, fresh, raw',\n",
    "  u'ndbno': u'01140',\n",
    "  u'offset': 5}]\n",
    "```\n",
    "\n",
    "As usual, make sure you document and test your function."
   ]
  },
  {
   "cell_type": "code",
   "execution_count": 1,
   "metadata": {},
   "outputs": [
    {
     "data": {
      "text/plain": [
       "[{'ds': 'BL',\n",
       "  'group': 'Branded Food Products Database',\n",
       "  'name': 'BUDDHA, QUAIL EGGS IN BRINE, UPC: 761934535098',\n",
       "  'ndbno': '45099560',\n",
       "  'offset': 0},\n",
       " {'ds': 'BL',\n",
       "  'group': 'Branded Food Products Database',\n",
       "  'name': 'CHAOKOH, QUAIL EGG IN BRINE, UPC: 044738074186',\n",
       "  'ndbno': '45094707',\n",
       "  'offset': 1},\n",
       " {'ds': 'BL',\n",
       "  'group': 'Branded Food Products Database',\n",
       "  'name': \"D'ARTAGNAN, QUAIL EGGS, UPC: 736622102630\",\n",
       "  'ndbno': '45178254',\n",
       "  'offset': 2},\n",
       " {'ds': 'SR',\n",
       "  'group': 'Dairy and Egg Products',\n",
       "  'name': 'Egg, quail, whole, fresh, raw',\n",
       "  'ndbno': '01140',\n",
       "  'offset': 3},\n",
       " {'ds': 'BL',\n",
       "  'group': 'Branded Food Products Database',\n",
       "  'name': 'GRAN SABANA, QUAIL EGGS, UPC: 819140010103',\n",
       "  'ndbno': '45169279',\n",
       "  'offset': 4},\n",
       " {'ds': 'BL',\n",
       "  'group': 'Branded Food Products Database',\n",
       "  'name': 'L&W, QUAIL EGGS, UPC: 024072000256',\n",
       "  'ndbno': '45094890',\n",
       "  'offset': 5}]"
      ]
     },
     "execution_count": 1,
     "metadata": {},
     "output_type": "execute_result"
    }
   ],
   "source": [
    "import requests\n",
    "\n",
    "my_api_key = 'qGHsT1sXfETbsOnmXQGHuqFwtucab2rrMntX2kb4'\n",
    "\n",
    "def ndb_search(search_term, key):\n",
    "    \"\"\"\n",
    "    Input 1: Search term for \"q\" parameter in API search\n",
    "    Input 2: Owned API key for access\n",
    "    \n",
    "    Output: List of the \"item\" variables relevant to the search term\n",
    "    \"\"\"\n",
    "    \n",
    "    url = 'https://api.nal.usda.gov/ndb/search/'\n",
    "    # can set the website url parameters using dictionary and requests.get will build them out\n",
    "    p = {'format':'json', 'api_key':key, 'q':search_term, 'output':'basic', 'sort':'n'}\n",
    "    r = requests.get(url, params = p)\n",
    "    #print(\"\\nURL: \"+ r.url + \"\\n\")\n",
    "    \n",
    "    #select from r.json() list where we only get the element, 'item' : [stuff we want]   \n",
    "    data = r.json()\n",
    "    item = data['list']['item']\n",
    "\n",
    "    return(item)\n",
    "    \n",
    "    \n",
    "ndb_search('quail eggs',my_api_key)"
   ]
  },
  {
   "cell_type": "markdown",
   "metadata": {
    "class": "ex",
    "exercise": "1.2",
    "points": "20"
   },
   "source": [
    "__Exercise 1.2__ (20 pts)\n",
    "\n",
    "Use your search function to get NDB numbers for the foods in the `fresh.csv` file. It's okay if you don't get an NDB number for every food, but try to come up with a strategy that gets most of them. Discuss your strategy in a short paragraph.\n",
    "\n",
    "Hints:\n",
    "\n",
    "* The foods are all raw and unbranded.\n",
    "* You can test search terms with the [online search page](https://ndb.nal.usda.gov/ndb/search/list).\n",
    "* You can convert the output of `ndb_search()` to a data frame with `pd.DataFrame()`.\n",
    "* The string methods for [Python](https://docs.python.org/2/library/stdtypes.html#string-methods) and [Pandas](http://pandas.pydata.org/pandas-docs/stable/text.html#method-summary) are useful here. It's okay if you use _simple_ regular expressions in the Pandas methods, although this exercise can be solved without them.\n",
    "* You can merge data frames that have a column in common with `pd.merge()`."
   ]
  },
  {
   "cell_type": "code",
   "execution_count": 5,
   "metadata": {
    "scrolled": false
   },
   "outputs": [
    {
     "name": "stdout",
     "output_type": "stream",
     "text": [
      "Obtaining inflect from git+https://github.com/pwdyson/inflect.py#egg=inflect\n",
      "  Updating c:\\cygwin64\\home\\pc_owner\\sta141b\\jupyter_notebooks\\davis\\src\\inflect clone\n",
      "Installing collected packages: inflect\n",
      "  Found existing installation: inflect 0.2.5\n",
      "    Uninstalling inflect-0.2.5:\n",
      "      Successfully uninstalled inflect-0.2.5\n",
      "  Running setup.py develop for inflect\n",
      "Successfully installed inflect\n"
     ]
    },
    {
     "ename": "NameError",
     "evalue": "name 'inflect' is not defined",
     "output_type": "error",
     "traceback": [
      "\u001b[1;31m---------------------------------------------------------------------------\u001b[0m",
      "\u001b[1;31mNameError\u001b[0m                                 Traceback (most recent call last)",
      "\u001b[1;32m<ipython-input-5-865e0365255b>\u001b[0m in \u001b[0;36m<module>\u001b[1;34m()\u001b[0m\n\u001b[0;32m      4\u001b[0m \u001b[1;32mimport\u001b[0m \u001b[0msys\u001b[0m\u001b[1;33m\u001b[0m\u001b[0m\n\u001b[0;32m      5\u001b[0m \u001b[0mget_ipython\u001b[0m\u001b[1;33m(\u001b[0m\u001b[1;33m)\u001b[0m\u001b[1;33m.\u001b[0m\u001b[0msystem\u001b[0m\u001b[1;33m(\u001b[0m\u001b[1;34m'{sys.executable} -m pip install -e git+https://github.com/pwdyson/inflect.py#egg=inflect'\u001b[0m\u001b[1;33m)\u001b[0m\u001b[1;33m\u001b[0m\u001b[0m\n\u001b[1;32m----> 6\u001b[1;33m \u001b[0mp\u001b[0m \u001b[1;33m=\u001b[0m \u001b[0minflect\u001b[0m\u001b[1;33m.\u001b[0m\u001b[0mengine\u001b[0m\u001b[1;33m(\u001b[0m\u001b[1;33m)\u001b[0m\u001b[1;33m\u001b[0m\u001b[0m\n\u001b[0m\u001b[0;32m      7\u001b[0m \u001b[1;33m\u001b[0m\u001b[0m\n\u001b[0;32m      8\u001b[0m \u001b[1;31m# make sure \"fresh.csv\" file is in same Jupyter directory as this notebook\u001b[0m\u001b[1;33m\u001b[0m\u001b[1;33m\u001b[0m\u001b[0m\n",
      "\u001b[1;31mNameError\u001b[0m: name 'inflect' is not defined"
     ]
    }
   ],
   "source": [
    "import pandas as pd\n",
    "import numpy as np\n",
    "import os\n",
    "import sys\n",
    "!{sys.executable} -m pip install -e git+https://github.com/pwdyson/inflect.py#egg=inflect\n",
    "import inflect\n",
    "p = inflect.engine()\n",
    "\n",
    "# make sure \"fresh.csv\" file is in same Jupyter directory as this notebook\n",
    "try:\n",
    "    ind = os.listdir().index('fresh.csv')\n",
    "    file = os.listdir()[ind]\n",
    "except ValueError:\n",
    "    print('\\nERROR:\\n    Make sure \"fresh.csv\" is in working directory.\\n')\n",
    "\n",
    "fresh = pd.read_csv(file)\n",
    "fresh = pd.DataFrame(fresh)\n",
    "food = fresh['food']\n",
    "\n",
    "# accounting for underscores in food names for search function\n",
    "food_list = []\n",
    "for i in food:\n",
    "    if i.find(\"_\") == -1:\n",
    "        food_list.append(i)\n",
    "    else:\n",
    "        i = i.split('_')\n",
    "        word = i[0] + \" \" + i[1]\n",
    "        food_list.append(word)\n",
    "\n",
    "def name_parser(api_list):\n",
    "    \"\"\"\n",
    "    Input: \n",
    "        list format from the API with variables \"ds\", \"name\", \"ndbno\", etc.\n",
    "    Returns:\n",
    "        Formatted decomposition of the \"name\" variable in the list which comes with many identifying sentences.\n",
    "    \"\"\"\n",
    "    name = api_list['name'].lower()\n",
    "    decomp = name.replace(\",\", \"\").replace(\"(\",\"\").replace(\")\",\"\").replace(\"-\",\" \").split(\" \")\n",
    "    raw1 = name.find(\"upc\") == -1\n",
    "    raw2 = api_list['ds'] == 'SR'\n",
    "    if raw1 & raw2:\n",
    "        return(decomp)\n",
    "    \n",
    "        \n",
    "# after analysis I realized all I needed was the column \"ds\" equal to \"SR\" for fresh fruit\n",
    "names = []\n",
    "for food in food_list:\n",
    "    try: # need this for \"kiwi\" search since there are no occurances of fresh raw kiwi\n",
    "        x = ndb_search(food + \", raw\",my_api_key)\n",
    "        for i in x:\n",
    "            n = name_parser(i)\n",
    "            if n != None:\n",
    "                names.append([n,i['ndbno']])\n",
    "                #print(n, str(i['ndbno']))\n",
    "    except KeyError:\n",
    "        continue\n",
    "df = pd.DataFrame()\n",
    "lis = []\n",
    "#Utilizing \"inflect\" package for checking singular and plural fruit name cases\n",
    "for i in names:\n",
    "    for j in food_list:\n",
    "        # checks is our csv file food names in API list \"name\"\n",
    "        if j in i[0]:\n",
    "            #print(j + \": \"+ str(i[1]))\n",
    "            lis.append(j+\",\"+i[1])\n",
    "        # if not it checks the plural case of j\n",
    "        elif ((j not in i[0]) & (p.singular_noun(j) == False)):\n",
    "            j2 = p.plural_noun(j)\n",
    "            if j2 in i[0]:\n",
    "                #print(j2 + \": \"+ str(i[1]))\n",
    "                lis.append(j2+\",\"+i[1])\n",
    "        # if not it checks the singular case of j\n",
    "        elif ((j not in i[0]) & (p.plural_noun(j)[-2:] == \"ss\")):\n",
    "            j3 = p.singular_noun(j)\n",
    "            if j3 in i[0]:\n",
    "                lis.append(j3+\",\"+i[1])\n",
    "df = []                \n",
    "for i in lis:\n",
    "    sp = i.split(\",\")\n",
    "    food = p.plural_noun(sp[0])\n",
    "    if food[-2:] == \"ss\":\n",
    "        food = food[:-1]\n",
    "    ndbno = sp[1]\n",
    "    df.append([food,ndbno])\n",
    "\n",
    "dataframe = pd.DataFrame(df, columns=['Food',\"NDB Number\"])\n",
    "dataframe = dataframe.sort_values(by=['Food'])\n",
    "dataframe = dataframe.set_index('Food')\n",
    "dataframe"
   ]
  },
  {
   "cell_type": "markdown",
   "metadata": {
    "class": "ex",
    "exercise": "1.3",
    "points": "20"
   },
   "source": [
    "__Exercise 1.3__ (20 pts)\n",
    "\n",
    "Read the [food reports V2 documentation](https://ndb.nal.usda.gov/ndb/doc/apilist/API-FOOD-REPORTV2.md), then write a function called `ndb_report()` that requests a _basic_ food report. The function should accept the NDB number as an argument and return the list of nutrients for the food.\n",
    "\n",
    "Note that the report url is: `https://api.nal.usda.gov/ndb/V2/reports`\n",
    "\n",
    "For example, for `\"09279\"` (raw plums) the first element of the returned list should be:\n",
    "\n",
    "```python\n",
    "{u'group': u'Proximates',\n",
    " u'measures': [{u'eqv': 165.0,\n",
    "   u'eunit': u'g',\n",
    "   u'label': u'cup, sliced',\n",
    "   u'qty': 1.0,\n",
    "   u'value': u'143.93'},\n",
    "  {u'eqv': 66.0,\n",
    "   u'eunit': u'g',\n",
    "   u'label': u'fruit (2-1/8\" dia)',\n",
    "   u'qty': 1.0,\n",
    "   u'value': u'57.57'},\n",
    "  {u'eqv': 151.0,\n",
    "   u'eunit': u'g',\n",
    "   u'label': u'NLEA serving',\n",
    "   u'qty': 1.0,\n",
    "   u'value': u'131.72'}],\n",
    " u'name': u'Water',\n",
    " u'nutrient_id': u'255',\n",
    " u'unit': u'g',\n",
    " u'value': u'87.23'}\n",
    "```\n",
    "\n",
    "Be sure to document and test your function."
   ]
  },
  {
   "cell_type": "markdown",
   "metadata": {
    "class": "ex",
    "exercise": "1.4",
    "points": "20"
   },
   "source": [
    "__Exercise 1.4__ (20 pts) Which foods provide the best combination of price, yield, and nutrition? You can use kilocalories as a measure of \"nutrition\" here, but more a detailed analysis is better. Use plots to support your analysis."
   ]
  }
 ],
 "metadata": {
  "kernelspec": {
   "display_name": "Python 3",
   "language": "python",
   "name": "python3"
  },
  "language_info": {
   "codemirror_mode": {
    "name": "ipython",
    "version": 3
   },
   "file_extension": ".py",
   "mimetype": "text/x-python",
   "name": "python",
   "nbconvert_exporter": "python",
   "pygments_lexer": "ipython3",
   "version": "3.6.3"
  }
 },
 "nbformat": 4,
 "nbformat_minor": 2
}
